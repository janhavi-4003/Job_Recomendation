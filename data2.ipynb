{
 "cells": [
  {
   "cell_type": "code",
   "execution_count": 3,
   "id": "9eb3cd84-8f4c-44b2-a2e0-13990855c387",
   "metadata": {},
   "outputs": [],
   "source": [
    "# Step 1: Import required libraries\n",
    "import pandas as pd\n",
    "import pickle\n",
    "from sklearn.feature_extraction.text import CountVectorizer\n",
    "from sklearn.metrics.pairwise import cosine_similarity\n",
    "\n"
   ]
  },
  {
   "cell_type": "code",
   "execution_count": 4,
   "id": "68ff9c4c-56a1-41b7-97ee-dc583f32b605",
   "metadata": {},
   "outputs": [],
   "source": [
    "# Step 2: Load cleaned data\n",
    "df = pd.read_csv(\"cleaned_data.csv\")\n",
    "\n"
   ]
  },
  {
   "cell_type": "code",
   "execution_count": 8,
   "id": "f3c7a52c-6bd0-43fe-b3d5-a93b7c8fea09",
   "metadata": {},
   "outputs": [],
   "source": [
    "# ✅ Step 3: Take a smaller sample for memory safety (10,000 rows)\n",
    "df_sample = df.sample(n=10000, random_state=42).reset_index(drop=True)"
   ]
  },
  {
   "cell_type": "code",
   "execution_count": 9,
   "id": "e86e2b29-8c2b-4626-9f51-eb3d9560c9eb",
   "metadata": {},
   "outputs": [],
   "source": [
    "# Step 4: Combine User_Skills and Job_Requirements into a single 'tags' column\n",
    "df_sample[\"tags\"] = df_sample[\"User_Skills\"] + \" \" + df_sample[\"Job_Requirements\"]\n"
   ]
  },
  {
   "cell_type": "code",
   "execution_count": 10,
   "id": "bc20965c-cae4-49c9-ba81-aec4a38b4961",
   "metadata": {},
   "outputs": [],
   "source": [
    "# Step 5: Vectorize the tags using CountVectorizer\n",
    "cv = CountVectorizer(max_features=5000, stop_words='english')\n",
    "vectors = cv.fit_transform(df_sample[\"tags\"]).toarray()\n",
    "\n",
    "\n"
   ]
  },
  {
   "cell_type": "code",
   "execution_count": 11,
   "id": "2f396aba-0a7e-4b3f-a95a-bdc74da0c3b5",
   "metadata": {},
   "outputs": [],
   "source": [
    "# Step 6: Compute cosine similarity\n",
    "similarity = cosine_similarity(vectors)\n"
   ]
  },
  {
   "cell_type": "code",
   "execution_count": 12,
   "id": "079404aa-e131-4f76-a9ab-b3b8ed661b75",
   "metadata": {},
   "outputs": [
    {
     "name": "stdout",
     "output_type": "stream",
     "text": [
      "✅ Sampled model saved as df.pkl, similarity.pkl, vectorizer.pkl\n"
     ]
    }
   ],
   "source": [
    "# Step 7: Save model and vectorizer\n",
    "pickle.dump(df_sample, open(\"df.pkl\", \"wb\"))\n",
    "pickle.dump(similarity, open(\"similarity.pkl\", \"wb\"))\n",
    "pickle.dump(cv, open(\"vectorizer.pkl\", \"wb\"))\n",
    "\n",
    "print(\"✅ Sampled model saved as df.pkl, similarity.pkl, vectorizer.pkl\")"
   ]
  },
  {
   "cell_type": "code",
   "execution_count": null,
   "id": "7b983420-c9d2-4eec-8b5f-d0cef23710a4",
   "metadata": {},
   "outputs": [],
   "source": []
  }
 ],
 "metadata": {
  "kernelspec": {
   "display_name": "Python 3 (ipykernel)",
   "language": "python",
   "name": "python3"
  },
  "language_info": {
   "codemirror_mode": {
    "name": "ipython",
    "version": 3
   },
   "file_extension": ".py",
   "mimetype": "text/x-python",
   "name": "python",
   "nbconvert_exporter": "python",
   "pygments_lexer": "ipython3",
   "version": "3.12.7"
  }
 },
 "nbformat": 4,
 "nbformat_minor": 5
}
